{
  "nbformat": 4,
  "nbformat_minor": 0,
  "metadata": {
    "colab": {
      "provenance": []
    },
    "kernelspec": {
      "name": "python3",
      "display_name": "Python 3"
    },
    "language_info": {
      "name": "python"
    }
  },
  "cells": [
    {
      "cell_type": "code",
      "execution_count": null,
      "metadata": {
        "id": "qJFGAhKF8UPD"
      },
      "outputs": [],
      "source": []
    },
    {
      "cell_type": "code",
      "source": [
        "import pandas as pd\n",
        "phenotype_to_genes = pd.read_csv('/content/phenotype_to_genes.txt', sep='\\t')\n",
        "genes_to_phenotype = pd.read_csv('/content/genes_to_phenotype.txt', sep='\\t')\n",
        "genes_to_disease = pd.read_csv('/content/genes_to_disease.txt', sep='\\t')\n",
        "phenotype = pd.read_csv('/content/phenotype.hpoa', sep='\\t', skiprows=4)\n"
      ],
      "metadata": {
        "colab": {
          "base_uri": "https://localhost:8080/"
        },
        "id": "WCboxS738Yjn",
        "outputId": "ccbe27ea-d3b2-43d5-ad02-93f026188c24"
      },
      "execution_count": 24,
      "outputs": [
        {
          "output_type": "stream",
          "name": "stderr",
          "text": [
            "<ipython-input-24-dc7a4f8dc0e6>:5: DtypeWarning: Columns (2,6,8,9) have mixed types. Specify dtype option on import or set low_memory=False.\n",
            "  phenotype = pd.read_csv('/content/phenotype.hpoa', sep='\\t', skiprows=4)\n"
          ]
        }
      ]
    },
    {
      "cell_type": "code",
      "source": [
        "phenotype=phenotype[['database_id',\t'disease_name']].drop_duplicates()\n",
        "phenotype_dic=dict()\n",
        "for i in phenotype.index:\n",
        "    phenotype_dic[phenotype['database_id'][i]]   =  phenotype['disease_name'][i]\n",
        "\n",
        "def transform(x, y,z):\n",
        "     try:\n",
        "        y=phenotype_dic[y]\n",
        "        return         f\"<s>[INST] What disease is associated with the gene {x}? [/INST] The gene {x} is associated with the disease {y} based on a {z} relationship. </s>\"\n",
        "     except:\n",
        "        return 'None'\n",
        "genes_to_disease['text']=genes_to_disease.apply(lambda x: transform(x['gene_symbol'], x['disease_id'],x['association_type']),axis=1)\n",
        "genes_to_disease=genes_to_disease[genes_to_disease['text'] != 'None']"
      ],
      "metadata": {
        "id": "Ji1p3WCdCuZE"
      },
      "execution_count": 25,
      "outputs": []
    },
    {
      "cell_type": "code",
      "source": [
        "import pandas as pd\n",
        "data_=pd.read_csv('/content/FT_data_v2.csv')\n",
        "def transform(x, y, z):\n",
        "    if z == 'both description':\n",
        "        return f\"<s>[INST] What does this concept mean? {x} [/INST] {y} </s>\"\n",
        "    elif z == 'description':\n",
        "        return f\"<s>[INST] Describe {x}: [/INST] {x} is a rare disease. {y} </s>\"\n",
        "    elif z == 'synonym':\n",
        "        return f\"<s>[INST] What is the synonym of {x}? [/INST] {y} is a synonym of {x}. </s>\"\n",
        "    else:\n",
        "        return f\"<s>[INST] Explain {x}: [/INST] {y} </s>\"  # Default case\n",
        "\n",
        "data_['text']= data_.apply(lambda x: transform(x['sentence1'], x['sentence2'], x['similarity_score']),axis=1)\n"
      ],
      "metadata": {
        "id": "1k-JfnKBCo5q"
      },
      "execution_count": 20,
      "outputs": []
    },
    {
      "cell_type": "code",
      "source": [
        "df = phenotype_to_genes[['hpo_name','gene_symbol']]\n",
        "df['gene_symbol'] = df.groupby('hpo_name')['gene_symbol'].transform(lambda x: ', '.join(x))\n",
        "df = df.drop_duplicates(subset=['hpo_name'])\n",
        "df=pd.DataFrame(df)\n",
        "def transform(x, y):\n",
        "        return         f\"<s>[INST] What genes are associated with the phenotype {x}? [/INST] The phenotype {x} is associated with the follwoing genes: {y} . </s>\"\n",
        "\n",
        "df['text']=df.apply(lambda x: transform(x['hpo_name'],x['gene_symbol'] ),axis=1)"
      ],
      "metadata": {
        "colab": {
          "base_uri": "https://localhost:8080/"
        },
        "id": "1WMGtYTnFSLM",
        "outputId": "7ab7d579-a3b2-4576-87dc-7ca61818c448"
      },
      "execution_count": 16,
      "outputs": [
        {
          "output_type": "stream",
          "name": "stderr",
          "text": [
            "<ipython-input-16-70d61bf2dab1>:2: SettingWithCopyWarning: \n",
            "A value is trying to be set on a copy of a slice from a DataFrame.\n",
            "Try using .loc[row_indexer,col_indexer] = value instead\n",
            "\n",
            "See the caveats in the documentation: https://pandas.pydata.org/pandas-docs/stable/user_guide/indexing.html#returning-a-view-versus-a-copy\n",
            "  df['gene_symbol'] = df.groupby('hpo_name')['gene_symbol'].transform(lambda x: ', '.join(x))\n"
          ]
        }
      ]
    },
    {
      "cell_type": "code",
      "source": [
        "df2 = genes_to_phenotype[['gene_symbol', 'hpo_name']]\n",
        "df2['hpo_name'] = df2.groupby('gene_symbol')   ['hpo_name'].transform(lambda x: ', '.join(x))\n",
        "df2 = df2.drop_duplicates(subset=['gene_symbol'])\n",
        "df2=pd.DataFrame(df2)\n",
        "df2\n",
        "def transform(x, y):\n",
        "        return         f\"<s>[INST] What phenotypes are associated with the gene {x}? [/INST] The gene {x} is associated with the follwoing phenotypes: {y} . </s>\"\n",
        "\n",
        "df2['text']=df2.apply(lambda x: transform(x['gene_symbol'], x['hpo_name']),axis=1)"
      ],
      "metadata": {
        "colab": {
          "base_uri": "https://localhost:8080/"
        },
        "id": "wXf2TZlLINJv",
        "outputId": "c41d206d-cee1-4df0-fadc-48429153ded7"
      },
      "execution_count": 17,
      "outputs": [
        {
          "output_type": "stream",
          "name": "stderr",
          "text": [
            "<ipython-input-17-dc29b2963cad>:2: SettingWithCopyWarning: \n",
            "A value is trying to be set on a copy of a slice from a DataFrame.\n",
            "Try using .loc[row_indexer,col_indexer] = value instead\n",
            "\n",
            "See the caveats in the documentation: https://pandas.pydata.org/pandas-docs/stable/user_guide/indexing.html#returning-a-view-versus-a-copy\n",
            "  df2['hpo_name'] = df2.groupby('gene_symbol')   ['hpo_name'].transform(lambda x: ', '.join(x))\n"
          ]
        }
      ]
    },
    {
      "cell_type": "code",
      "source": [
        "genes_to_disease=genes_to_disease[['text']]\n",
        "data_=data_[['text']]\n",
        "df=df[['text']]\n",
        "df2=df2[['text']]"
      ],
      "metadata": {
        "id": "PR8cGTOjNK0J"
      },
      "execution_count": 27,
      "outputs": []
    },
    {
      "cell_type": "code",
      "source": [
        "combined_df = pd.concat([genes_to_disease, data_, df, df2], ignore_index=True)\n",
        "combined_df.to_csv('finetuning_datasets.csv')"
      ],
      "metadata": {
        "id": "uGnS7ywMH3l8"
      },
      "execution_count": 29,
      "outputs": []
    }
  ]
}